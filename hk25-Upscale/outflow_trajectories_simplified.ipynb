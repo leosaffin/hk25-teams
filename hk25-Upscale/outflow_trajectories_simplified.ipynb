{
 "cells": [
  {
   "cell_type": "code",
   "execution_count": null,
   "id": "6dd99a07-6941-4913-b0ed-bb8cfef010f6",
   "metadata": {},
   "outputs": [],
   "source": [
    "from datetime import timedelta\n",
    "import healpy\n",
    "import huracanpy\n",
    "import intake\n",
    "from iris.analysis.cartography import wrap_lons\n",
    "import matplotlib.pyplot as plt\n",
    "import numpy as np\n",
    "import pandas as pd\n",
    "from tqdm import tqdm"
   ]
  },
  {
   "cell_type": "code",
   "execution_count": null,
   "id": "843fcbb7-c589-4929-921f-ecca881ae2a4",
   "metadata": {},
   "outputs": [],
   "source": [
    "tracks = huracanpy.load(\"../hk25-TropCyc/TC_tracks/um_glm_n2560_RAL3p3.csv\")\n",
    "track = tracks.hrcn.sel_id(72)\n",
    "track"
   ]
  },
  {
   "cell_type": "code",
   "execution_count": null,
   "id": "153513f6-3f13-42a7-a6e7-2e7efb462bc4",
   "metadata": {
    "scrolled": true
   },
   "outputs": [],
   "source": [
    "# Set up initial points. 5-degree circle around cyclone centre\n",
    "x0 = track.lon.values[0]\n",
    "y0 = track.lat.values[0]\n",
    "\n",
    "angle = np.arange(360)\n",
    "\n",
    "x0 = x0 + 5 * np.sin(np.deg2rad(angle))\n",
    "y0 = y0 + 5 * np.cos(np.deg2rad(angle))\n",
    "\n",
    "plt.plot(x0, y0)"
   ]
  },
  {
   "cell_type": "code",
   "execution_count": null,
   "id": "4c1480be-908b-4d31-811d-2a154c0172fa",
   "metadata": {
    "scrolled": true
   },
   "outputs": [],
   "source": [
    "cat = intake.open_catalog('https://digital-earths-global-hackathon.github.io/catalog/catalog.yaml')['online']\n",
    "ds = cat[\"um_glm_n2560_RAL3p3\"](zoom=9, time=\"PT3H\").to_dask().sel(pressure=200)\n",
    "ds"
   ]
  },
  {
   "cell_type": "code",
   "execution_count": null,
   "id": "25a9ef4a-4837-4c92-8d02-be33e285dce5",
   "metadata": {},
   "outputs": [],
   "source": [
    "dy = 1.112e5  # Distance in m between 2 lat circles\n",
    "\n",
    "def update_position(x, y, u, v, dt):\n",
    "    # Calculate new positions\n",
    "    x = x + u * dt / (dy * np.cos(np.deg2rad(y)))\n",
    "    y = y + v * dt / dy\n",
    "\n",
    "    # Crosses pole\n",
    "    cross_north_pole = (y > 90)\n",
    "    y[cross_north_pole] = 180 - y[cross_north_pole]\n",
    "\n",
    "    cross_south_pole = (y < -90)\n",
    "    y[cross_south_pole] = -180 + y[cross_south_pole]\n",
    "\n",
    "    # Check boundaries\n",
    "    x[cross_north_pole | cross_south_pole] += 180\n",
    "    x = wrap_lons(x, base=-180, period=360)\n",
    "\n",
    "    return x, y\n",
    "\n",
    "# Default iterations from Lagranto\n",
    "euler_iterations=3\n",
    "times = pd.date_range(\n",
    "    start=track.time.values[0],\n",
    "    end=track.time.values[-1],\n",
    "    freq=\"3h\",\n",
    ")\n",
    "ntimes = len(times)\n",
    "\n",
    "# Timestep in seconds (for 3-hourly data)\n",
    "dt = 3 * 3600\n",
    "\n",
    "# Preallocate array for trajectories and add initial positions\n",
    "ntraj = len(x0)\n",
    "trajectories = np.zeros([ntimes + 1, ntraj, 2])\n",
    "trajectories[0, :, 0] = x0\n",
    "trajectories[0, :, 1] = y0\n",
    "\n",
    "\n",
    "for n, time in tqdm(enumerate(times), total=ntimes):\n",
    "    # First iteration (x0, y0) == (x1, y1)\n",
    "    x1 = x0\n",
    "    y1 = y0\n",
    "\n",
    "    ds_t = ds.sel(time=time)\n",
    "    ds_tp1 = ds.sel(time=time + timedelta(seconds=dt))\n",
    "\n",
    "    # Winds at t0\n",
    "    u0 = healpy.get_interp_val(ds_t.ua, x0, y0, nest=True, lonlat=True)\n",
    "    v0 = healpy.get_interp_val(ds_t.va, x0, y0, nest=True, lonlat=True)\n",
    "\n",
    "    # Further iterations. Keep updating x1, y1\n",
    "    for i in range(euler_iterations - 1):\n",
    "        # Winds at t+dt\n",
    "        u1 = healpy.get_interp_val(ds_tp1.ua, x1, y1, nest=True, lonlat=True)\n",
    "        v1 = healpy.get_interp_val(ds_tp1.va, x1, y1, nest=True, lonlat=True)\n",
    "\n",
    "        # Average velocity across times\n",
    "        u = (u0 + u1) / 2.\n",
    "        v = (v0 + v1) / 2.\n",
    "\n",
    "        # Calculate new positions\n",
    "        x1, y1 = update_position(x0, y0, u, v, dt)\n",
    "\n",
    "    # Add final position to trajectories\n",
    "    trajectories[n + 1, :, 0] = x1\n",
    "    trajectories[n + 1, :, 1] = y1\n",
    "\n",
    "    x0, y0 = x1, y1\n",
    "\n",
    "np.save(\"um_n2560_glm_ral3p3_tc72_outflow_trajectories.npy\", trajectories)\n",
    "ds.close()"
   ]
  }
 ],
 "metadata": {
  "kernelspec": {
   "display_name": "wcrp_hackathon",
   "language": "python",
   "name": "wcrp_hackathon"
  },
  "language_info": {
   "codemirror_mode": {
    "name": "ipython",
    "version": 3
   },
   "file_extension": ".py",
   "mimetype": "text/x-python",
   "name": "python",
   "nbconvert_exporter": "python",
   "pygments_lexer": "ipython3",
   "version": "3.12.10"
  }
 },
 "nbformat": 4,
 "nbformat_minor": 5
}
