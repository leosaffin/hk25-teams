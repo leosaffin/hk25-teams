{
 "cells": [
  {
   "cell_type": "markdown",
   "id": "dcce54b5-82db-4f65-b1e4-7f2d0ef7b97c",
   "metadata": {},
   "source": [
    "# Simple pre-processing of HEALPix output for cyclone tracking with TempestExtremes\n",
    "\n",
    "Modified from `TE_pre-process.ipynb` specifically for preparing files for NodeFileCompose."
   ]
  },
  {
   "cell_type": "code",
   "execution_count": 1,
   "id": "a27715a6-40cc-4722-a2a2-70025a464095",
   "metadata": {},
   "outputs": [
    {
     "name": "stderr",
     "output_type": "stream",
     "text": [
      "/home/users/sbourdin/.conda/envs/hackathon/lib/python3.12/site-packages/pyproj/network.py:59: UserWarning: pyproj unable to set PROJ database path.\n",
      "  _set_context_ca_bundle_path(ca_bundle_path)\n"
     ]
    }
   ],
   "source": [
    "import os, intake, datetime\n",
    "import xarray as xr\n",
    "import numpy as np\n",
    "import easygems.healpix as egh\n",
    "import healpix as hp\n",
    "from tqdm import tqdm"
   ]
  },
  {
   "cell_type": "code",
   "execution_count": 2,
   "id": "3e0a7957-16c2-4789-ac6c-9b3837f90192",
   "metadata": {},
   "outputs": [],
   "source": [
    "# Select simulation and make an output directory (this may need to be on a group workspace or on scratch, rather than ~/)\n",
    "run = 'um_glm_n1280_GAL9'\n",
    "#run=\"um_glm_n2560_RAL3p3\"\n",
    "\n",
    "type=\"2D\"\n",
    "#type=\"3D\"\n",
    "\n",
    "working_dir = '/work/scratch-nopw2/sbourdin/'\n",
    "output_dir = os.path.join(working_dir,run,'data_pp/')\n",
    "if not os.path.isdir(output_dir):\n",
    "    os.makedirs(output_dir)"
   ]
  },
  {
   "cell_type": "code",
   "execution_count": 3,
   "id": "c0172cd2-431b-4e14-9a4b-6e6298f160cd",
   "metadata": {},
   "outputs": [],
   "source": [
    "cat = intake.open_catalog('https://digital-earths-global-hackathon.github.io/catalog/catalog.yaml')['online']"
   ]
  },
  {
   "cell_type": "code",
   "execution_count": 4,
   "id": "09c0130d-75f9-49a9-afce-d9599c164715",
   "metadata": {},
   "outputs": [
    {
     "name": "stderr",
     "output_type": "stream",
     "text": [
      "/home/users/sbourdin/.conda/envs/hackathon/lib/python3.12/site-packages/intake_xarray/base.py:21: FutureWarning: The return type of `Dataset.dims` will be changed to return a set of dimension names in future, in order to be more consistent with `DataArray.dims`. To access a mapping from dimension names to lengths, please use `Dataset.sizes`.\n",
      "  'dims': dict(self._ds.dims),\n"
     ]
    }
   ],
   "source": [
    "# Select zoom level, variables and levels\n",
    "if run == 'um_glm_n1280_GAL9':\n",
    "    zoom=9\n",
    "elif run == \"um_glm_n2560_RAL3p3\":\n",
    "    zoom=10\n",
    "else:\n",
    "    print(\"Please define your run's output grid\")\n",
    "if type == \"2D\":\n",
    "    variables_1h_2d = ['uas', 'vas', 'pr', 'psl']   # TempestExtremes tracking is psl-based, with surface wind maxima added to tracks\n",
    "    ds_1h_2d = cat[run](zoom=zoom, time='PT1H').to_dask()\n",
    "elif type == \"3D\":\n",
    "    variables_3h_3d = ['zg']   # zg is used by TempestExtremes for warm-core detection and (later, optionally) computing cyclone phase-space parameters (see Stella Bourdin's code)\n",
    "    plevc = np.array([925,500,250])\n",
    "    ds_3h_3d = cat[run](zoom=zoom, time='PT3H').to_dask()"
   ]
  },
  {
   "cell_type": "code",
   "execution_count": 5,
   "id": "659bc9dc-b5ab-49c4-a0bc-04c8de53af9c",
   "metadata": {},
   "outputs": [],
   "source": [
    "# Set up grid\n",
    "# Find the HEALPix pixels that are closest to, for example, the .2x.2 degree grid points.\n",
    "# N.B. A 1x1 has lines at lon=90, 180, 270 (need to avoid these).\n",
    "\n",
    "if run == 'um_glm_n1280_GAL9':\n",
    "    lon = np.linspace(0, 360, 3600)\n",
    "    lat = np.linspace(90, -90, 1800)\n",
    "elif run == \"um_glm_n2560_RAL3p3\":\n",
    "    lon = np.linspace(0, 360, 3600*2)\n",
    "    lat = np.linspace(90, -90, 1800*2)\n",
    "else:\n",
    "    print(\"Please define your run's output grid\")\n",
    "\n",
    "pix = xr.DataArray(\n",
    "    hp.ang2pix(ds_1h_2d.crs.healpix_nside, *np.meshgrid(lon, lat), nest=True, lonlat=True),\n",
    "    coords=((\"lat\", lat), (\"lon\", lon)))"
   ]
  },
  {
   "cell_type": "code",
   "execution_count": 7,
   "id": "5fc5449d-44f2-47fd-98a8-fc779fc83c70",
   "metadata": {
    "scrolled": true
   },
   "outputs": [
    {
     "name": "stdout",
     "output_type": "stream",
     "text": [
      "date start: 2020-01-20\n",
      "date end: 2021-03-31\n",
      "uas\n"
     ]
    },
    {
     "name": "stderr",
     "output_type": "stream",
     "text": [
      "100%|██████████| 1749/1749 [00:00<00:00, 3749.49it/s]\n"
     ]
    },
    {
     "name": "stdout",
     "output_type": "stream",
     "text": [
      "vas\n"
     ]
    },
    {
     "name": "stderr",
     "output_type": "stream",
     "text": [
      "100%|██████████| 1749/1749 [00:00<00:00, 4704.18it/s]\n"
     ]
    },
    {
     "name": "stdout",
     "output_type": "stream",
     "text": [
      "pr\n"
     ]
    },
    {
     "name": "stderr",
     "output_type": "stream",
     "text": [
      "100%|██████████| 1749/1749 [00:00<00:00, 4934.00it/s]\n"
     ]
    },
    {
     "name": "stdout",
     "output_type": "stream",
     "text": [
      "psl\n"
     ]
    },
    {
     "name": "stderr",
     "output_type": "stream",
     "text": [
      "100%|██████████| 1749/1749 [00:00<00:00, 4899.06it/s]\n"
     ]
    }
   ],
   "source": [
    "# Loop over dataset, saving a file for each timestep (these can be combined later using \"cdo cat...\", if preferred)\n",
    "date_start = str(ds_1h_2d.time[0].to_numpy())[:10]\n",
    "date_end = str(ds_1h_2d.time[-2].to_numpy())[:10]\n",
    "print('date start: {}'.format(date_start))\n",
    "print('date end: {}'.format(date_end))\n",
    "\n",
    "if type == \"2D\":\n",
    "    for var in variables_1h_2d:\n",
    "        print(var)\n",
    "        for t in tqdm(ds_1h_2d.time.values[::6]):   # select 6 hourly data\n",
    "            output_fn = '_'.join([run,var,str(t)[:13]])+'.nc'\n",
    "            output_ffp = os.path.join(output_dir,output_fn)\n",
    "            if not os.path.exists(output_ffp):\n",
    "                d = ds_1h_2d[var].sel(time=t).isel(cell=pix)\n",
    "                d.expand_dims(\"time\").to_netcdf(output_ffp)\n",
    "elif type == \"3D\":      \n",
    "    for var in variables_3h_3d:\n",
    "        print(var)\n",
    "        for t in ds_3h_3d.time.values[::2]:   # select 6 hourly data\n",
    "            output_fn = '_'.join([run,var,str(t)[:13]])+'.nc'\n",
    "            output_ffp = os.path.join(output_dir,output_fn)\n",
    "            if not os.path.exists(output_ffp):\n",
    "                d = ds_3h_3d[var].sel(time=t,pressure=plevc).isel(cell=pix)\n",
    "                d.to_netcdf(output_ffp)"
   ]
  },
  {
   "cell_type": "code",
   "execution_count": null,
   "id": "67eb3408-0d32-4d58-a646-5bb3f2b07cb4",
   "metadata": {},
   "outputs": [],
   "source": []
  }
 ],
 "metadata": {
  "kernelspec": {
   "display_name": "hackathon",
   "language": "python",
   "name": "hackathon"
  },
  "language_info": {
   "codemirror_mode": {
    "name": "ipython",
    "version": 3
   },
   "file_extension": ".py",
   "mimetype": "text/x-python",
   "name": "python",
   "nbconvert_exporter": "python",
   "pygments_lexer": "ipython3",
   "version": "3.12.10"
  }
 },
 "nbformat": 4,
 "nbformat_minor": 5
}
